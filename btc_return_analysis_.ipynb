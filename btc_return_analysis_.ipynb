{
 "cells": [
  {
   "cell_type": "code",
   "execution_count": 1,
   "id": "fe91d04d",
   "metadata": {},
   "outputs": [
    {
     "name": "stdout",
     "output_type": "stream",
     "text": [
      "   Day    BTC    Return  Cumulative\n",
      "0  Mon  30200  0.000000    1.000000\n",
      "1  Tue  30500  0.009934    1.009934\n",
      "2  Wed  30050 -0.014754    0.995033\n",
      "3  Thu  31000  0.031614    1.026490\n",
      "4  Fri  31500  0.016129    1.043046\n"
     ]
    }
   ],
   "source": [
    "# Basic Quant Operations\n",
    "import pandas as pd\n",
    "import numpy as np\n",
    "\n",
    "# Create sample crypto price data\n",
    "data = {\n",
    "    'Day': ['Mon', 'Tue', 'Wed', 'Thu', 'Fri'],\n",
    "    'BTC': [30200, 30500, 30050, 31000, 31500]\n",
    "}\n",
    "\n",
    "df = pd.DataFrame(data)\n",
    "\n",
    "# Calculate daily returns\n",
    "df['Return'] = df['BTC'].pct_change().fillna(0)\n",
    "\n",
    "# Calculate cumulative return\n",
    "df['Cumulative'] = (1 + df['Return']).cumprod()\n",
    "\n",
    "print(df)\n"
   ]
  },
  {
   "cell_type": "code",
   "execution_count": null,
   "id": "ddd98c11",
   "metadata": {},
   "outputs": [],
   "source": []
  }
 ],
 "metadata": {
  "kernelspec": {
   "display_name": "quant_trading",
   "language": "python",
   "name": "python3"
  },
  "language_info": {
   "codemirror_mode": {
    "name": "ipython",
    "version": 3
   },
   "file_extension": ".py",
   "mimetype": "text/x-python",
   "name": "python",
   "nbconvert_exporter": "python",
   "pygments_lexer": "ipython3",
   "version": "3.10.16"
  }
 },
 "nbformat": 4,
 "nbformat_minor": 5
}
